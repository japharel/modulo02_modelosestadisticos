{
 "cells": [
  {
   "cell_type": "markdown",
   "id": "53314be8-78ce-4578-8eb8-309bcb678348",
   "metadata": {},
   "source": [
    "# Probabilidad Frecuentista\n",
    "\n",
    "Tenemos la hipótesis de que el espacio muestral es un conjunto finito, y podemos definir la probabilidad asociada a un evento $A$:\n",
    "\n",
    "$$ f_n(A) = \\frac{n(A)}{n}, $$\n",
    "donde $n(A)$ denota al número de veces que ocurre $A$, y $n$ es el número de veces en que se realiza el experimento."
   ]
  },
  {
   "cell_type": "code",
   "execution_count": 9,
   "id": "876c24d9-eec7-4f71-a3fe-6f7f0445250e",
   "metadata": {},
   "outputs": [],
   "source": [
    "import random "
   ]
  },
  {
   "cell_type": "markdown",
   "id": "7c4479f8-524f-45f6-9042-350276164d19",
   "metadata": {},
   "source": [
    "Se tiene el lanzamiento de monedas injustas (volados)\n"
   ]
  },
  {
   "cell_type": "code",
   "execution_count": 17,
   "id": "18496349-6d9d-4d77-8e00-fdcd7c15b4ed",
   "metadata": {},
   "outputs": [],
   "source": [
    "def volado(p):\n",
    "    return 'sol' if random.random() < p else 'aguila'"
   ]
  },
  {
   "cell_type": "code",
   "execution_count": 19,
   "id": "efbfdacd-cf5e-4705-a435-7c4e146c4461",
   "metadata": {},
   "outputs": [
    {
     "data": {
      "text/plain": [
       "'aguila'"
      ]
     },
     "execution_count": 19,
     "metadata": {},
     "output_type": "execute_result"
    }
   ],
   "source": [
    "volado(0.4)"
   ]
  },
  {
   "cell_type": "code",
   "execution_count": 27,
   "id": "71a1943b-1216-4f05-925e-2ba415fd5016",
   "metadata": {},
   "outputs": [
    {
     "data": {
      "text/plain": [
       "['aguila',\n",
       " 'sol',\n",
       " 'aguila',\n",
       " 'sol',\n",
       " 'aguila',\n",
       " 'aguila',\n",
       " 'sol',\n",
       " 'aguila',\n",
       " 'aguila',\n",
       " 'aguila']"
      ]
     },
     "execution_count": 27,
     "metadata": {},
     "output_type": "execute_result"
    }
   ],
   "source": [
    "a = [volado(0.4) for i in range(10)]\n",
    "a"
   ]
  },
  {
   "cell_type": "code",
   "execution_count": 29,
   "id": "d4bbf74a-a3f5-4c05-ab82-6fa4098aeb2a",
   "metadata": {},
   "outputs": [
    {
     "data": {
      "text/plain": [
       "3"
      ]
     },
     "execution_count": 29,
     "metadata": {},
     "output_type": "execute_result"
    }
   ],
   "source": [
    "a.count(\"sol\")"
   ]
  },
  {
   "cell_type": "code",
   "execution_count": 35,
   "id": "a341fbfe-9ee2-4ece-831a-7bc6f0e70400",
   "metadata": {},
   "outputs": [],
   "source": [
    "resultados = [] # lista vacia"
   ]
  },
  {
   "cell_type": "code",
   "execution_count": 43,
   "id": "120bdf06-7f9a-4b86-b541-488b3cea9e55",
   "metadata": {},
   "outputs": [
    {
     "data": {
      "text/plain": [
       "['sol',\n",
       " 'sol',\n",
       " 'sol',\n",
       " 'sol',\n",
       " 'aguila',\n",
       " 'sol',\n",
       " 'aguila',\n",
       " 'sol',\n",
       " 'sol',\n",
       " 'aguila',\n",
       " 'sol',\n",
       " 'aguila',\n",
       " 'sol',\n",
       " 'sol',\n",
       " 'sol',\n",
       " 'aguila',\n",
       " 'aguila',\n",
       " 'sol',\n",
       " 'aguila',\n",
       " 'aguila',\n",
       " 'aguila',\n",
       " 'sol',\n",
       " 'sol',\n",
       " 'sol',\n",
       " 'aguila',\n",
       " 'sol',\n",
       " 'sol',\n",
       " 'sol',\n",
       " 'aguila',\n",
       " 'aguila',\n",
       " 'aguila',\n",
       " 'aguila',\n",
       " 'sol',\n",
       " 'aguila',\n",
       " 'aguila',\n",
       " 'sol',\n",
       " 'sol',\n",
       " 'aguila',\n",
       " 'aguila',\n",
       " 'aguila']"
      ]
     },
     "execution_count": 43,
     "metadata": {},
     "output_type": "execute_result"
    }
   ],
   "source": [
    "for i in range(10):\n",
    "    resultado = volado(0.4)\n",
    "    resultados.append(resultado)\n",
    "resultados"
   ]
  },
  {
   "cell_type": "code",
   "execution_count": 73,
   "id": "29e2a321-e534-46c2-b726-63a62716eed2",
   "metadata": {},
   "outputs": [
    {
     "name": "stdout",
     "output_type": "stream",
     "text": [
      "Probabiliad 0.630\n"
     ]
    }
   ],
   "source": [
    "# Vamos a simular nuestra probabilidad frecuentista\n",
    "p = [] #Lista para almacernar las probabilidades\n",
    "\n",
    "for i in range(1000): #Simula 1000 experimentos\n",
    "    N = 1000 # numero de lanzamientos \n",
    "    resultados = []\n",
    "\n",
    "    for i in range(N):\n",
    "        resultado = volado(0.63)\n",
    "        resultados.append(resultado)\n",
    "\n",
    "    n_soles = resultados.count(\"sol\") # cuenta en número de soles\n",
    "    p_soles = n_soles / N #calcula la proporción\n",
    "\n",
    "    p.append(p_soles)\n",
    "\n",
    "# Probabilidad promedio\n",
    "p_soles_prom = sum(p) / 1000 \n",
    "\n",
    "print(\"Probabiliad {:.3f}\".format(p_soles_prom))   "
   ]
  },
  {
   "cell_type": "code",
   "execution_count": null,
   "id": "fcc65b9e-6aa9-4a0e-87e6-071d0d7f849e",
   "metadata": {},
   "outputs": [],
   "source": []
  }
 ],
 "metadata": {
  "kernelspec": {
   "display_name": "Python [conda env:base] *",
   "language": "python",
   "name": "conda-base-py"
  },
  "language_info": {
   "codemirror_mode": {
    "name": "ipython",
    "version": 3
   },
   "file_extension": ".py",
   "mimetype": "text/x-python",
   "name": "python",
   "nbconvert_exporter": "python",
   "pygments_lexer": "ipython3",
   "version": "3.12.7"
  }
 },
 "nbformat": 4,
 "nbformat_minor": 5
}
