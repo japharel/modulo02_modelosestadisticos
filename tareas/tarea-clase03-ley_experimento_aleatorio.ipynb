{
 "cells": [
  {
   "cell_type": "markdown",
   "id": "bd92272c-ffc1-41fe-9aca-eb0b6488ac0b",
   "metadata": {},
   "source": [
    "# Tarea. Clase 03\n",
    "\n",
    "## Ley del experimento aleatorio\n",
    "\n",
    "---"
   ]
  },
  {
   "cell_type": "markdown",
   "id": "ecaaf9d1-c6e4-4bc3-adcc-b8df20e7e3ba",
   "metadata": {},
   "source": [
    "## Ejercicio\n",
    "\n",
    "Se tienen $2$ urnas, cada una de las cuales contiene $10$ bolas numeradas del $1$ al $10$. \n",
    "\n",
    "Un experimento aleatorio consiste en seleccionar al azar una bola de cada urna. \n",
    "\n",
    "Sea $X$ la variable aleatoria que representa la diferencia de los números de las dos bolas seleccionadas.\n",
    "\n",
    "* Define $\\Omega$\n",
    "* Calcula las probabilidades asociadas\n",
    "* Define la función de densidad\n",
    "* Verifica que $\\sum_{x\\in R_X}f_X(x) = 1$\n",
    "* Gráfica la función de densidad\n",
    "\n",
    "Además, calcula la probabilidad de que los números de las dos bolas seleccionadas difieran por $2$ o más."
   ]
  },
  {
   "cell_type": "code",
   "execution_count": 1,
   "id": "615f9889-a974-4f28-9fbd-2c6652bb1f70",
   "metadata": {},
   "outputs": [],
   "source": [
    "from itertools import product\n",
    "from collections import Counter\n",
    "import matplotlib.pyplot as plt\n",
    "from IPython.display import Markdown, display"
   ]
  },
  {
   "cell_type": "code",
   "execution_count": 2,
   "id": "c76cb9cd-0384-47c5-88d4-3fbaf1950db2",
   "metadata": {},
   "outputs": [],
   "source": [
    "def printmd(text):\n",
    "    display(Markdown(text))"
   ]
  },
  {
   "cell_type": "code",
   "execution_count": 3,
   "id": "441ce98a-1fe3-457c-8d1a-edb1869cad08",
   "metadata": {},
   "outputs": [
    {
     "data": {
      "text/markdown": [
       "### 1. Espacio muestral $\\Omega$"
      ],
      "text/plain": [
       "<IPython.core.display.Markdown object>"
      ]
     },
     "metadata": {},
     "output_type": "display_data"
    },
    {
     "data": {
      "text/markdown": [
       "El espacio muestral tiene 100 elementos."
      ],
      "text/plain": [
       "<IPython.core.display.Markdown object>"
      ]
     },
     "metadata": {},
     "output_type": "display_data"
    },
    {
     "data": {
      "text/markdown": [
       "$\\Omega = \\{(i, j) \\mid i, j \\in \\{1, 2, ..., 10\\}\\}$"
      ],
      "text/plain": [
       "<IPython.core.display.Markdown object>"
      ]
     },
     "metadata": {},
     "output_type": "display_data"
    },
    {
     "data": {
      "text/markdown": [
       "### 2. Variable aleatoria $X = |i - j|$"
      ],
      "text/plain": [
       "<IPython.core.display.Markdown object>"
      ]
     },
     "metadata": {},
     "output_type": "display_data"
    },
    {
     "data": {
      "text/markdown": [
       "Los posibles valores de $X$ son: [1, 2, 3, 4, 5, 6, 7, 8, 9, 10]"
      ],
      "text/plain": [
       "<IPython.core.display.Markdown object>"
      ]
     },
     "metadata": {},
     "output_type": "display_data"
    },
    {
     "data": {
      "text/markdown": [
       "### 3. Función de densidad $f_X(x)$"
      ],
      "text/plain": [
       "<IPython.core.display.Markdown object>"
      ]
     },
     "metadata": {},
     "output_type": "display_data"
    },
    {
     "data": {
      "text/markdown": [
       "$f_X(1) = \\frac{10}{100} = 0.100$"
      ],
      "text/plain": [
       "<IPython.core.display.Markdown object>"
      ]
     },
     "metadata": {},
     "output_type": "display_data"
    },
    {
     "data": {
      "text/markdown": [
       "$f_X(2) = \\frac{18}{100} = 0.180$"
      ],
      "text/plain": [
       "<IPython.core.display.Markdown object>"
      ]
     },
     "metadata": {},
     "output_type": "display_data"
    },
    {
     "data": {
      "text/markdown": [
       "$f_X(3) = \\frac{16}{100} = 0.160$"
      ],
      "text/plain": [
       "<IPython.core.display.Markdown object>"
      ]
     },
     "metadata": {},
     "output_type": "display_data"
    },
    {
     "data": {
      "text/markdown": [
       "$f_X(4) = \\frac{14}{100} = 0.140$"
      ],
      "text/plain": [
       "<IPython.core.display.Markdown object>"
      ]
     },
     "metadata": {},
     "output_type": "display_data"
    },
    {
     "data": {
      "text/markdown": [
       "$f_X(5) = \\frac{12}{100} = 0.120$"
      ],
      "text/plain": [
       "<IPython.core.display.Markdown object>"
      ]
     },
     "metadata": {},
     "output_type": "display_data"
    },
    {
     "data": {
      "text/markdown": [
       "$f_X(6) = \\frac{10}{100} = 0.100$"
      ],
      "text/plain": [
       "<IPython.core.display.Markdown object>"
      ]
     },
     "metadata": {},
     "output_type": "display_data"
    },
    {
     "data": {
      "text/markdown": [
       "$f_X(7) = \\frac{8}{100} = 0.080$"
      ],
      "text/plain": [
       "<IPython.core.display.Markdown object>"
      ]
     },
     "metadata": {},
     "output_type": "display_data"
    },
    {
     "data": {
      "text/markdown": [
       "$f_X(8) = \\frac{6}{100} = 0.060$"
      ],
      "text/plain": [
       "<IPython.core.display.Markdown object>"
      ]
     },
     "metadata": {},
     "output_type": "display_data"
    },
    {
     "data": {
      "text/markdown": [
       "$f_X(9) = \\frac{4}{100} = 0.040$"
      ],
      "text/plain": [
       "<IPython.core.display.Markdown object>"
      ]
     },
     "metadata": {},
     "output_type": "display_data"
    },
    {
     "data": {
      "text/markdown": [
       "$f_X(10) = \\frac{2}{100} = 0.020$"
      ],
      "text/plain": [
       "<IPython.core.display.Markdown object>"
      ]
     },
     "metadata": {},
     "output_type": "display_data"
    },
    {
     "data": {
      "text/markdown": [
       "### 4. Verificación de que $\\sum f_X(x) = 1$"
      ],
      "text/plain": [
       "<IPython.core.display.Markdown object>"
      ]
     },
     "metadata": {},
     "output_type": "display_data"
    },
    {
     "data": {
      "text/markdown": [
       "La suma de todas las probabilidades es: **1.00**"
      ],
      "text/plain": [
       "<IPython.core.display.Markdown object>"
      ]
     },
     "metadata": {},
     "output_type": "display_data"
    },
    {
     "data": {
      "text/markdown": [
       "### 5. Gráfica de la función de densidad $f_X(x)$"
      ],
      "text/plain": [
       "<IPython.core.display.Markdown object>"
      ]
     },
     "metadata": {},
     "output_type": "display_data"
    },
    {
     "data": {
      "image/png": "[encoded data removed]",
      "text/plain": [
       "<Figure size 800x400 with 1 Axes>"
      ]
     },
     "metadata": {},
     "output_type": "display_data"
    },
    {
     "data": {
      "text/markdown": [
       "### 7. Probabilidad de que la diferencia sea 2 o más"
      ],
      "text/plain": [
       "<IPython.core.display.Markdown object>"
      ]
     },
     "metadata": {},
     "output_type": "display_data"
    },
    {
     "data": {
      "text/markdown": [
       "$P(|i - j| \\geq 2) = 0.90$"
      ],
      "text/plain": [
       "<IPython.core.display.Markdown object>"
      ]
     },
     "metadata": {},
     "output_type": "display_data"
    }
   ],
   "source": [
    "# 1. Espacio muestral Ω\n",
    "Omega = set(product(range(1, 11), repeat=2))\n",
    "card_Omega = len(Omega)\n",
    "\n",
    "printmd(\"### 1. Espacio muestral $\\\\Omega$\")\n",
    "printmd(f\"El espacio muestral tiene {card_Omega} elementos.\")\n",
    "printmd(f\"$\\\\Omega = \\\\{{(i, j) \\\\mid i, j \\\\in \\\\{{1, 2, ..., 10\\\\}}\\\\}}$\")\n",
    "\n",
    "# 2. Variable aleatoria X = |i - j|\n",
    "valores_X = [abs(i - j) + 1 for (i, j) in Omega]\n",
    "valores_posibles = sorted(set(valores_X))\n",
    "\n",
    "printmd(\"### 2. Variable aleatoria $X = |i - j|$\")\n",
    "printmd(f\"Los posibles valores de $X$ son: {valores_posibles}\")\n",
    "\n",
    "# 3. Función de densidad f_X(x)\n",
    "\n",
    "frecuencias = Counter(valores_X)\n",
    "f_X = {x: frecuencias[x]/card_Omega for x in valores_posibles}\n",
    "\n",
    "printmd(\"### 3. Función de densidad $f_X(x)$\")\n",
    "for x in f_X:\n",
    "    printmd(f\"$f_X({x}) = \\\\frac{{{frecuencias[x]}}}{{{card_Omega}}} = {f_X[x]:.3f}$\")\n",
    "\n",
    "# 4. Verificación de que suma f_X(x) = 1\n",
    "suma_probabilidades = sum(f_X.values())\n",
    "\n",
    "printmd(\"### 4. Verificación de que $\\\\sum f_X(x) = 1$\")\n",
    "printmd(f\"La suma de todas las probabilidades es: **{suma_probabilidades:.2f}**\")\n",
    "\n",
    "# 5. Gráfica de la función de densidad\n",
    "printmd(\"### 5. Gráfica de la función de densidad $f_X(x)$\")\n",
    "\n",
    "plt.figure(figsize=(8,4))\n",
    "plt.bar(f_X.keys(), f_X.values(), edgecolor='black')\n",
    "plt.xlabel('Valor de X = |i - j|')\n",
    "plt.ylabel('f_X(x)')\n",
    "plt.title('Función de densidad de X')\n",
    "plt.grid(True, linestyle='--', alpha=0.5)\n",
    "plt.xticks(range(10))\n",
    "plt.show()\n",
    "\n",
    "# 6. P(X ≥ 2)\n",
    "prob_dif_2_o_mas = sum(p for x, p in f_X.items() if x >= 2)\n",
    "\n",
    "printmd(\"### 7. Probabilidad de que la diferencia sea 2 o más\")\n",
    "printmd(f\"$P(|i - j| \\\\geq 2) = {prob_dif_2_o_mas:.2f}$\")"
   ]
  }
 ],
 "metadata": {
  "kernelspec": {
   "display_name": "Python 3 (ipykernel)",
   "language": "python",
   "name": "python3"
  },
  "language_info": {
   "codemirror_mode": {
    "name": "ipython",
    "version": 3
   },
   "file_extension": ".py",
   "mimetype": "text/x-python",
   "name": "python",
   "nbconvert_exporter": "python",
   "pygments_lexer": "ipython3",
   "version": "3.12.9"
  }
 },
 "nbformat": 4,
 "nbformat_minor": 5
}
